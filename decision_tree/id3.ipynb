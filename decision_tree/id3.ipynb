{
 "cells": [
  {
   "cell_type": "code",
   "execution_count": 1,
   "metadata": {},
   "outputs": [],
   "source": [
    "import numpy as np"
   ]
  },
  {
   "cell_type": "code",
   "execution_count": 6,
   "metadata": {},
   "outputs": [
    {
     "data": {
      "text/plain": [
       "array([[0, 0, 0, 0],\n",
       "       [0, 0, 0, 1],\n",
       "       [0, 1, 0, 1],\n",
       "       [0, 1, 1, 0],\n",
       "       [0, 0, 0, 0],\n",
       "       [1, 0, 0, 0],\n",
       "       [1, 0, 0, 1],\n",
       "       [1, 1, 1, 1],\n",
       "       [1, 0, 1, 2],\n",
       "       [1, 0, 1, 2],\n",
       "       [2, 0, 1, 2],\n",
       "       [2, 0, 1, 1],\n",
       "       [2, 1, 0, 1],\n",
       "       [2, 1, 0, 2],\n",
       "       [2, 0, 0, 0]])"
      ]
     },
     "execution_count": 6,
     "metadata": {},
     "output_type": "execute_result"
    }
   ],
   "source": [
    "train_x = [\n",
    "    # age, job, house, cred\n",
    "    [0,0,0,0],\n",
    "    [0,0,0,1],\n",
    "    [0,1,0,1],\n",
    "    [0,1,1,0],\n",
    "    [0,0,0,0],\n",
    "    [1,0,0,0],\n",
    "    [1,0,0,1],\n",
    "    [1,1,1,1],\n",
    "    [1,0,1,2],\n",
    "    [1,0,1,2],\n",
    "    [2,0,1,2],\n",
    "    [2,0,1,1],\n",
    "    [2,1,0,1],\n",
    "    [2,1,0,2],\n",
    "    [2,0,0,0],\n",
    "]\n",
    "train_x = np.array(train_x)\n",
    "train_x"
   ]
  },
  {
   "cell_type": "code",
   "execution_count": 176,
   "metadata": {},
   "outputs": [],
   "source": [
    "train_y = np.array([0,0,1,1,0,0,0,1,1,1,1,1,1,1,0])\n",
    "train_y = train_y.reshape(-1, 1)\n",
    "#train_y.reshape(-1).shape"
   ]
  },
  {
   "cell_type": "code",
   "execution_count": 177,
   "metadata": {},
   "outputs": [
    {
     "data": {
      "text/plain": [
       "[6, 9]"
      ]
     },
     "execution_count": 177,
     "metadata": {},
     "output_type": "execute_result"
    }
   ],
   "source": [
    "c_size = [len(train_y[train_y==c]) for c in set(train_y.reshape(-1))]\n",
    "c_size"
   ]
  },
  {
   "cell_type": "code",
   "execution_count": 241,
   "metadata": {},
   "outputs": [
    {
     "data": {
      "text/plain": [
       "0"
      ]
     },
     "execution_count": 241,
     "metadata": {},
     "output_type": "execute_result"
    }
   ],
   "source": [
    "train_x[1,1]"
   ]
  },
  {
   "cell_type": "code",
   "execution_count": 247,
   "metadata": {},
   "outputs": [
    {
     "data": {
      "text/plain": [
       "[False,\n",
       " False,\n",
       " False,\n",
       " False,\n",
       " False,\n",
       " True,\n",
       " True,\n",
       " True,\n",
       " True,\n",
       " True,\n",
       " False,\n",
       " False,\n",
       " False,\n",
       " False,\n",
       " False]"
      ]
     },
     "execution_count": 247,
     "metadata": {},
     "output_type": "execute_result"
    }
   ],
   "source": [
    "sub_set = [train_x[a, 0] == 1 for a in range(train_x.shape[0])]\n",
    "sub_set"
   ]
  },
  {
   "cell_type": "code",
   "execution_count": 254,
   "metadata": {},
   "outputs": [],
   "source": [
    "class DecisionTree:\n",
    "    def __init__(self):\n",
    "        self.train_x = None\n",
    "        self.train_y = None\n",
    "        self.y_classfier = None\n",
    "        self.train_entropy = None\n",
    "    \n",
    "    def experience_entropy(self, set_y):\n",
    "        y_classfier = set(set_y.reshape(-1))\n",
    "        \n",
    "        entropy = 0\n",
    "        d_size = len(set_y)\n",
    "        \n",
    "        c_size = [len(set_y[set_y==c]) for c in y_classfier]\n",
    "        \n",
    "        for i in range(len(y_classfier)):\n",
    "            entropy += - c_size[i] / d_size * np.log2(c_size[i] / d_size)\n",
    "        \n",
    "        return entropy\n",
    "    \n",
    "    def feature_entropy(self, column):\n",
    "        entropy = 0\n",
    "        feature_x = set(self.train_x[:, column])\n",
    "        \n",
    "        for feature in list(feature_x):\n",
    "            sub_set = [self.train_x[a, column] == feature for a in range(self.train_x.shape[0])]\n",
    "            sub_y = self.train_y[sub_set, 0]\n",
    "            entropy += sum(sub_set) / len(self.train_y) * self.experience_entropy(sub_y)\n",
    "        \n",
    "        return entropy\n",
    "        sub_set_size = [train_x[a, j] <= feature\n",
    "                        for a in range(train_x.shape[0])]       \n",
    "        sub_y = [self.train_y[sub_set_size, 0]]\n",
    "        \n",
    "        sub_set_size = [train_x[a, j] > feature\n",
    "                    for a in range(train_x.shape[0])]        \n",
    "        sub_y.append(self.train_y[sub_set_size, 0])\n",
    "\n",
    "        entropy = 0\n",
    "        for sub in sub_y:\n",
    "            entropy += len(sub) / len(self.train_y) * self.experience_entropy(sub)\n",
    "        \n",
    "        return entropy\n",
    "    \n",
    "    def gain(self, feature):\n",
    "        return self.train_entropy - self.feature_entropy(feature)\n",
    "    \n",
    "    def fit(self, train_x, train_y):\n",
    "        \n",
    "        self.train_x = train_x\n",
    "        self.train_y = train_y\n",
    "        \n",
    "        self.train_entropy = self.experience_entropy(train_y)\n",
    "        \n",
    "        #self.trans_x = np.append(train_x, train_y, axis=1)\n",
    "        \n",
    "        max_gain = 0\n",
    "        for column in range(self.train_x.shape[1]):\n",
    "            gain = self.gain(column)  \n",
    "            if gain > max_gain:\n",
    "                max_gain = gain\n",
    "                print(\"choose feature {}: gain {}\".format(column, max_gain))"
   ]
  },
  {
   "cell_type": "code",
   "execution_count": 255,
   "metadata": {},
   "outputs": [
    {
     "name": "stdout",
     "output_type": "stream",
     "text": [
      "choose feature 0: gain 0.08300749985576883\n",
      "choose feature 1: gain 0.32365019815155627\n",
      "choose feature 2: gain 0.4199730940219749\n"
     ]
    }
   ],
   "source": [
    "decision_tree = DecisionTree()\n",
    "decision_tree.fit(train_x, train_y)"
   ]
  },
  {
   "cell_type": "code",
   "execution_count": 218,
   "metadata": {},
   "outputs": [
    {
     "data": {
      "text/plain": [
       "0.9709505944546686"
      ]
     },
     "execution_count": 218,
     "metadata": {},
     "output_type": "execute_result"
    }
   ],
   "source": [
    "decision_tree.experience_entropy(train_y)"
   ]
  },
  {
   "cell_type": "code",
   "execution_count": 217,
   "metadata": {},
   "outputs": [
    {
     "name": "stdout",
     "output_type": "stream",
     "text": [
      "[array([0, 0, 1, 1, 0])]\n",
      "[array([0, 0, 1, 1, 0]), array([0, 0, 1, 1, 1, 1, 1, 1, 1, 0])]\n"
     ]
    },
    {
     "data": {
      "text/plain": [
       "0.9111774643053513"
      ]
     },
     "execution_count": 217,
     "metadata": {},
     "output_type": "execute_result"
    }
   ],
   "source": [
    "decision_tree.feature_entropy(1,0)"
   ]
  },
  {
   "cell_type": "code",
   "execution_count": 228,
   "metadata": {},
   "outputs": [
    {
     "data": {
      "text/plain": [
       "1"
      ]
     },
     "execution_count": 228,
     "metadata": {},
     "output_type": "execute_result"
    }
   ],
   "source": [
    "np.argmax([1,2])"
   ]
  }
 ],
 "metadata": {
  "kernelspec": {
   "display_name": "Python 3",
   "language": "python",
   "name": "python3"
  },
  "language_info": {
   "codemirror_mode": {
    "name": "ipython",
    "version": 3
   },
   "file_extension": ".py",
   "mimetype": "text/x-python",
   "name": "python",
   "nbconvert_exporter": "python",
   "pygments_lexer": "ipython3",
   "version": "3.7.1"
  }
 },
 "nbformat": 4,
 "nbformat_minor": 2
}
