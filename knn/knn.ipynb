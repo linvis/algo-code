{
 "cells": [
  {
   "cell_type": "code",
   "execution_count": 2,
   "metadata": {},
   "outputs": [],
   "source": [
    "import numpy as np\n",
    "import random"
   ]
  },
  {
   "cell_type": "code",
   "execution_count": 3,
   "metadata": {},
   "outputs": [],
   "source": [
    "class Tree:\n",
    "    def __init__(self, data=None, parent=None):\n",
    "        self.left = None\n",
    "        self.right = None\n",
    "        self.data = data\n",
    "        self.parent = parent\n",
    "        self.neighbor = None\n",
    "    \n",
    "    def traverse(self):\n",
    "        print(self.data)\n",
    "        \n",
    "        if self.left:\n",
    "            self.left.traverse()\n",
    "        if self.right:\n",
    "            self.right.traverse()\n",
    "    \n",
    "    def __getattribute__(self, item):\n",
    "        if item == 'neighbor':\n",
    "            if self.parent == None:\n",
    "                return None\n",
    "            else:\n",
    "                if self == self.parent.left:\n",
    "                    return self.parent.right\n",
    "                else:\n",
    "                    return self.parent.left\n",
    "        else:\n",
    "            return super().__getattribute__(item)"
   ]
  },
  {
   "cell_type": "code",
   "execution_count": 4,
   "metadata": {},
   "outputs": [],
   "source": [
    "tree = Tree(1)\n",
    "left_node = Tree(2, tree)\n",
    "right_node = Tree(3,tree)"
   ]
  },
  {
   "cell_type": "code",
   "execution_count": 5,
   "metadata": {},
   "outputs": [],
   "source": [
    "tree.left = left_node\n",
    "tree.right = right_node\n",
    "left_node.parent = tree\n",
    "right_node.parent = tree"
   ]
  },
  {
   "cell_type": "code",
   "execution_count": 6,
   "metadata": {},
   "outputs": [
    {
     "data": {
      "text/plain": [
       "2"
      ]
     },
     "execution_count": 6,
     "metadata": {},
     "output_type": "execute_result"
    }
   ],
   "source": [
    "right_node.neighbor.data"
   ]
  },
  {
   "cell_type": "code",
   "execution_count": 7,
   "metadata": {},
   "outputs": [
    {
     "name": "stdout",
     "output_type": "stream",
     "text": [
      "1\n",
      "2\n",
      "3\n"
     ]
    }
   ],
   "source": [
    "tree.traverse()"
   ]
  },
  {
   "cell_type": "code",
   "execution_count": 213,
   "metadata": {},
   "outputs": [],
   "source": [
    "class KNN:\n",
    "    def __init__(self, x, y, k=1):\n",
    "        self.train_x = x\n",
    "        self.train_y = y\n",
    "        self.k = k\n",
    "        self.tree = Tree()\n",
    "        self.cur_node = None\n",
    "        self.min_dis = float('inf')\n",
    "        \n",
    "    def clean(self):\n",
    "        self.cur_node = None\n",
    "        self.min_dis = float('inf')\n",
    "        \n",
    "    def median(self, x_choose):\n",
    "        x_set = sorted(x_choose)\n",
    "        \n",
    "        return x_set[int(len(x_set) / 2)]\n",
    "    \n",
    "    def kv_tree(self, x_set:np.array, root, deep):\n",
    "        \n",
    "        if len(x_set) <= 1:\n",
    "            return\n",
    "        \n",
    "        l = (deep % self.k) + 1\n",
    "            \n",
    "        x_choose = x_set[:, l - 1]\n",
    "        med = self.median(x_choose)\n",
    "\n",
    "        left_data = [x for x in x_set if x[l - 1] < med]\n",
    "        right_data = [x for x in x_set if x[l - 1] > med]\n",
    "        \n",
    "        root.data = np.array([x for x in x_set if x[l - 1] == med])\n",
    "\n",
    "        #left_data = np.where(len(left_data) > 0, np.array(left_data), None)\n",
    "        #right_data = np.where(len(right_data) > 0, np.array(right_data), None)\n",
    "        left_data = np.array(left_data)\n",
    "        left_node = Tree(left_data)\n",
    "        left_node.parent = root\n",
    "        root.left = left_node\n",
    "        \n",
    "        right_data = np.array(right_data)\n",
    "        right_node = Tree(right_data)\n",
    "        right_node.parent = root\n",
    "        root.right = right_node\n",
    "        \n",
    "        self.kv_tree(left_data, root.left, deep + 1)\n",
    "        self.kv_tree(right_data, root.right, deep + 1)\n",
    "        '''\n",
    "        这段的目的是不构造空叶子节点，\n",
    "        但是缺少空节点有个问题，kv树搜索的时候，不从叶子节点开始，会导致某些节点没有被搜索到\n",
    "        if len(left_data) > 0:\n",
    "            left_data = np.array(left_data)\n",
    "            left_node = Tree(left_data)\n",
    "            root.left = left_node\n",
    "            left_node.parent = root\n",
    "            self.kv_tree(left_data, root.left, deep + 1)\n",
    "        else:\n",
    "            root.left = None\n",
    "        \n",
    "        if len(right_data) > 0:\n",
    "            right_data = np.array(right_data)\n",
    "            right_node = Tree(right_data)\n",
    "            root.right = right_node\n",
    "            right_node.parent = root\n",
    "            self.kv_tree(right_data, root.right, deep + 1)\n",
    "        else:\n",
    "            root.right = None  \n",
    "        '''\n",
    "      \n",
    "        \n",
    "    def predict(self, x):\n",
    "        self.clean()\n",
    "        \n",
    "        leaf, deep = self.search_leaf(self.tree, x, 0)\n",
    "        \n",
    "        self.cur_node = leaf\n",
    "        \n",
    "        self.search_back(leaf, x, deep)\n",
    "        \n",
    "        return self.cur_node, self.min_dis\n",
    "\n",
    "    \n",
    "    def update_min_dis(self, node, x):\n",
    "        #print(len(node.data))\n",
    "        if len(node.data) <= 0:\n",
    "            return\n",
    "        \n",
    "        dis = [np.linalg.norm(n - x) for n in node.data]\n",
    "        min_dis = min(dis)\n",
    "        if min_dis < self.min_dis:\n",
    "            #str_data = lambda d : 'None' if d == None else d.data\n",
    "            #print(\"update node {} => {}\".format(str_data(self.cur_node), node.data))\n",
    "            #print(\"update dis {} => {}\".format(self.min_dis, dis))\n",
    "            self.min_dis = min_dis\n",
    "            self.cur_node = node\n",
    "    \n",
    "    def search_neighbor(self, node, x, deep):\n",
    "        \n",
    "        nodes = [[node, deep]]\n",
    "        \n",
    "        while len(nodes):\n",
    "            cur_node, cur_deep = nodes.pop(0)\n",
    "            #print(\"search neighbor: {}\".format(cur_node.data))\n",
    "            self.update_min_dis(cur_node, x)\n",
    "            if cur_node.left:\n",
    "                nodes += [[cur_node.left, cur_deep - 1]]\n",
    "            if cur_node.right:\n",
    "                nodes += [[cur_node.right, cur_deep - 1]]\n",
    "                 \n",
    "    def search_back(self, node, x, deep):\n",
    "        \n",
    "        if deep <= 0:\n",
    "            return\n",
    "        \n",
    "        #print(\"----- {}\".format(node.data))\n",
    "        parent = node.parent\n",
    "        #print(\"parent {}\".format(parent.data))\n",
    "        \n",
    "        l = (deep % self.k) + 1 - 1\n",
    "        \n",
    "        # intersect\n",
    "        if x[l] - parent.data[0][l] <= self.min_dis:\n",
    "            # check if min distance in parent node\n",
    "            self.update_min_dis(parent, x)\n",
    "                \n",
    "            # check neighborhood\n",
    "            self.search_neighbor(node.neighbor, x, deep)\n",
    "            \n",
    "            self.search_back(parent, x, deep - 1)\n",
    "            \n",
    "        else:\n",
    "            return self.search_back(parent, x, deep - 1)\n",
    "    \n",
    "    def search_leaf(self, tree, x, deep):\n",
    "        #print(tree.data)\n",
    "        if len(tree.data) <= 0:\n",
    "            #self.update_min_dis(tree.parent, x)\n",
    "            return tree, deep\n",
    "        \n",
    "        l = (deep % self.k) + 1 - 1       \n",
    "        \n",
    "        if x[0] < tree.data[0][l]:\n",
    "            if tree.left == None:\n",
    "                self.update_min_dis(tree, x)\n",
    "                return tree, deep\n",
    "            else:\n",
    "                return self.search_leaf(tree.left, x, deep + 1)\n",
    "        else:\n",
    "            if tree.right == None:  \n",
    "                self.update_min_dis(tree, x)\n",
    "                return tree, deep\n",
    "            else:\n",
    "                return self.search_leaf(tree.right, x, deep + 1)"
   ]
  },
  {
   "cell_type": "code",
   "execution_count": 169,
   "metadata": {},
   "outputs": [
    {
     "data": {
      "text/plain": [
       "array([[2, 3],\n",
       "       [5, 4],\n",
       "       [9, 6],\n",
       "       [4, 7],\n",
       "       [8, 1],\n",
       "       [7, 2]])"
      ]
     },
     "execution_count": 169,
     "metadata": {},
     "output_type": "execute_result"
    }
   ],
   "source": [
    "train_x = [[2,3],[5,4],[9,6],[4,7],[8,1],[7,2]]\n",
    "train_x = np.array(train_x)\n",
    "train_x"
   ]
  },
  {
   "cell_type": "code",
   "execution_count": 175,
   "metadata": {},
   "outputs": [
    {
     "data": {
      "text/plain": [
       "array([0, 1, 1, 0, 1, 0])"
      ]
     },
     "execution_count": 175,
     "metadata": {},
     "output_type": "execute_result"
    }
   ],
   "source": [
    "train_y = np.array([0, 1, 1, 0, 1, 0])\n",
    "train_y"
   ]
  },
  {
   "cell_type": "code",
   "execution_count": 214,
   "metadata": {},
   "outputs": [
    {
     "name": "stdout",
     "output_type": "stream",
     "text": [
      "[[7 2]]\n",
      "[[5 4]]\n",
      "[[2 3]]\n",
      "[[4 7]]\n",
      "[[9 6]]\n",
      "[[8 1]]\n",
      "[]\n"
     ]
    }
   ],
   "source": [
    "knn = KNN(train_x, train_y, 2)\n",
    "knn.kv_tree(knn.train_x, knn.tree, 0)\n",
    "knn.tree.traverse()"
   ]
  },
  {
   "cell_type": "code",
   "execution_count": 201,
   "metadata": {},
   "outputs": [
    {
     "data": {
      "text/plain": [
       "array([1, 1])"
      ]
     },
     "execution_count": 201,
     "metadata": {},
     "output_type": "execute_result"
    }
   ],
   "source": [
    "test_x = np.array([1,1])\n",
    "test_x"
   ]
  },
  {
   "cell_type": "code",
   "execution_count": 215,
   "metadata": {},
   "outputs": [
    {
     "data": {
      "text/plain": [
       "array([[2, 3]])"
      ]
     },
     "execution_count": 215,
     "metadata": {},
     "output_type": "execute_result"
    }
   ],
   "source": [
    "knn.search_leaf(knn.tree, test_x, 0)[0].data"
   ]
  },
  {
   "cell_type": "code",
   "execution_count": 216,
   "metadata": {},
   "outputs": [
    {
     "data": {
      "text/plain": [
       "array([[2, 3]])"
      ]
     },
     "execution_count": 216,
     "metadata": {},
     "output_type": "execute_result"
    }
   ],
   "source": [
    "knn.predict(test_x)[0].data"
   ]
  },
  {
   "cell_type": "code",
   "execution_count": 217,
   "metadata": {},
   "outputs": [],
   "source": [
    "def test_knn(train_x, test_x):\n",
    "    dis = [np.linalg.norm(n - test_x) for n in train_x]\n",
    "    #print(dis)\n",
    "    return np.array([train_x[np.argmin(dis)]]), min(dis)"
   ]
  },
  {
   "cell_type": "code",
   "execution_count": 194,
   "metadata": {},
   "outputs": [
    {
     "data": {
      "text/plain": [
       "(array([[8, 1]]), 1.4142135623730951)"
      ]
     },
     "execution_count": 194,
     "metadata": {},
     "output_type": "execute_result"
    }
   ],
   "source": [
    "test_knn(train_x, test_x)"
   ]
  },
  {
   "cell_type": "code",
   "execution_count": 199,
   "metadata": {},
   "outputs": [],
   "source": [
    "def random_test():\n",
    "    test_x = np.random.randint(10, size=(100, 2))\n",
    "    #test_x = [[5,4]]\n",
    "\n",
    "    for x in test_x:\n",
    "        print(x)\n",
    "        knn_dis = knn.predict(x)[1]\n",
    "        test_dis = test_knn(train_x, x)[1]\n",
    "        if knn_dis != test_dis:\n",
    "            print(x)\n",
    "            print(\"dis knn {}, test {}\".format(knn_dis, test_dis))\n",
    "            print(knn.predict(x)[0].data)\n",
    "            print(test_knn(train_x, x)[0])\n",
    "    \n",
    "    pass"
   ]
  },
  {
   "cell_type": "code",
   "execution_count": 200,
   "metadata": {},
   "outputs": [
    {
     "name": "stdout",
     "output_type": "stream",
     "text": [
      "[1 1]\n"
     ]
    },
    {
     "ename": "ValueError",
     "evalue": "min() arg is an empty sequence",
     "output_type": "error",
     "traceback": [
      "\u001b[0;31m---------------------------------------------------------------------------\u001b[0m",
      "\u001b[0;31mValueError\u001b[0m                                Traceback (most recent call last)",
      "\u001b[0;32m<ipython-input-200-f03b8daa3888>\u001b[0m in \u001b[0;36m<module>\u001b[0;34m\u001b[0m\n\u001b[0;32m----> 1\u001b[0;31m \u001b[0mrandom_test\u001b[0m\u001b[0;34m(\u001b[0m\u001b[0;34m)\u001b[0m\u001b[0;34m\u001b[0m\u001b[0;34m\u001b[0m\u001b[0m\n\u001b[0m",
      "\u001b[0;32m<ipython-input-199-64ff5a36f652>\u001b[0m in \u001b[0;36mrandom_test\u001b[0;34m()\u001b[0m\n\u001b[1;32m      5\u001b[0m     \u001b[0;32mfor\u001b[0m \u001b[0mx\u001b[0m \u001b[0;32min\u001b[0m \u001b[0mtest_x\u001b[0m\u001b[0;34m:\u001b[0m\u001b[0;34m\u001b[0m\u001b[0;34m\u001b[0m\u001b[0m\n\u001b[1;32m      6\u001b[0m         \u001b[0mprint\u001b[0m\u001b[0;34m(\u001b[0m\u001b[0mx\u001b[0m\u001b[0;34m)\u001b[0m\u001b[0;34m\u001b[0m\u001b[0;34m\u001b[0m\u001b[0m\n\u001b[0;32m----> 7\u001b[0;31m         \u001b[0mknn_dis\u001b[0m \u001b[0;34m=\u001b[0m \u001b[0mknn\u001b[0m\u001b[0;34m.\u001b[0m\u001b[0mpredict\u001b[0m\u001b[0;34m(\u001b[0m\u001b[0mx\u001b[0m\u001b[0;34m)\u001b[0m\u001b[0;34m[\u001b[0m\u001b[0;36m1\u001b[0m\u001b[0;34m]\u001b[0m\u001b[0;34m\u001b[0m\u001b[0;34m\u001b[0m\u001b[0m\n\u001b[0m\u001b[1;32m      8\u001b[0m         \u001b[0mtest_dis\u001b[0m \u001b[0;34m=\u001b[0m \u001b[0mtest_knn\u001b[0m\u001b[0;34m(\u001b[0m\u001b[0mtrain_x\u001b[0m\u001b[0;34m,\u001b[0m \u001b[0mx\u001b[0m\u001b[0;34m)\u001b[0m\u001b[0;34m[\u001b[0m\u001b[0;36m1\u001b[0m\u001b[0;34m]\u001b[0m\u001b[0;34m\u001b[0m\u001b[0;34m\u001b[0m\u001b[0m\n\u001b[1;32m      9\u001b[0m         \u001b[0;32mif\u001b[0m \u001b[0mknn_dis\u001b[0m \u001b[0;34m!=\u001b[0m \u001b[0mtest_dis\u001b[0m\u001b[0;34m:\u001b[0m\u001b[0;34m\u001b[0m\u001b[0;34m\u001b[0m\u001b[0m\n",
      "\u001b[0;32m<ipython-input-188-2388b9232b76>\u001b[0m in \u001b[0;36mpredict\u001b[0;34m(self, x)\u001b[0m\n\u001b[1;32m     76\u001b[0m         \u001b[0mself\u001b[0m\u001b[0;34m.\u001b[0m\u001b[0mcur_node\u001b[0m \u001b[0;34m=\u001b[0m \u001b[0mleaf\u001b[0m\u001b[0;34m\u001b[0m\u001b[0;34m\u001b[0m\u001b[0m\n\u001b[1;32m     77\u001b[0m \u001b[0;34m\u001b[0m\u001b[0m\n\u001b[0;32m---> 78\u001b[0;31m         \u001b[0mself\u001b[0m\u001b[0;34m.\u001b[0m\u001b[0msearch_back\u001b[0m\u001b[0;34m(\u001b[0m\u001b[0mleaf\u001b[0m\u001b[0;34m,\u001b[0m \u001b[0mx\u001b[0m\u001b[0;34m,\u001b[0m \u001b[0mdeep\u001b[0m\u001b[0;34m)\u001b[0m\u001b[0;34m\u001b[0m\u001b[0;34m\u001b[0m\u001b[0m\n\u001b[0m\u001b[1;32m     79\u001b[0m \u001b[0;34m\u001b[0m\u001b[0m\n\u001b[1;32m     80\u001b[0m         \u001b[0;32mreturn\u001b[0m \u001b[0mself\u001b[0m\u001b[0;34m.\u001b[0m\u001b[0mcur_node\u001b[0m\u001b[0;34m,\u001b[0m \u001b[0mself\u001b[0m\u001b[0;34m.\u001b[0m\u001b[0mmin_dis\u001b[0m\u001b[0;34m\u001b[0m\u001b[0;34m\u001b[0m\u001b[0m\n",
      "\u001b[0;32m<ipython-input-188-2388b9232b76>\u001b[0m in \u001b[0;36msearch_back\u001b[0;34m(self, node, x, deep)\u001b[0m\n\u001b[1;32m    126\u001b[0m             \u001b[0mself\u001b[0m\u001b[0;34m.\u001b[0m\u001b[0msearch_neighbor\u001b[0m\u001b[0;34m(\u001b[0m\u001b[0mnode\u001b[0m\u001b[0;34m.\u001b[0m\u001b[0mneighbor\u001b[0m\u001b[0;34m,\u001b[0m \u001b[0mx\u001b[0m\u001b[0;34m,\u001b[0m \u001b[0mdeep\u001b[0m\u001b[0;34m)\u001b[0m\u001b[0;34m\u001b[0m\u001b[0;34m\u001b[0m\u001b[0m\n\u001b[1;32m    127\u001b[0m \u001b[0;34m\u001b[0m\u001b[0m\n\u001b[0;32m--> 128\u001b[0;31m             \u001b[0mself\u001b[0m\u001b[0;34m.\u001b[0m\u001b[0msearch_back\u001b[0m\u001b[0;34m(\u001b[0m\u001b[0mparent\u001b[0m\u001b[0;34m,\u001b[0m \u001b[0mx\u001b[0m\u001b[0;34m,\u001b[0m \u001b[0mdeep\u001b[0m \u001b[0;34m-\u001b[0m \u001b[0;36m1\u001b[0m\u001b[0;34m)\u001b[0m\u001b[0;34m\u001b[0m\u001b[0;34m\u001b[0m\u001b[0m\n\u001b[0m\u001b[1;32m    129\u001b[0m \u001b[0;34m\u001b[0m\u001b[0m\n\u001b[1;32m    130\u001b[0m         \u001b[0;32melse\u001b[0m\u001b[0;34m:\u001b[0m\u001b[0;34m\u001b[0m\u001b[0;34m\u001b[0m\u001b[0m\n",
      "\u001b[0;32m<ipython-input-188-2388b9232b76>\u001b[0m in \u001b[0;36msearch_back\u001b[0;34m(self, node, x, deep)\u001b[0m\n\u001b[1;32m    124\u001b[0m \u001b[0;34m\u001b[0m\u001b[0m\n\u001b[1;32m    125\u001b[0m             \u001b[0;31m# check neighborhood\u001b[0m\u001b[0;34m\u001b[0m\u001b[0;34m\u001b[0m\u001b[0;34m\u001b[0m\u001b[0m\n\u001b[0;32m--> 126\u001b[0;31m             \u001b[0mself\u001b[0m\u001b[0;34m.\u001b[0m\u001b[0msearch_neighbor\u001b[0m\u001b[0;34m(\u001b[0m\u001b[0mnode\u001b[0m\u001b[0;34m.\u001b[0m\u001b[0mneighbor\u001b[0m\u001b[0;34m,\u001b[0m \u001b[0mx\u001b[0m\u001b[0;34m,\u001b[0m \u001b[0mdeep\u001b[0m\u001b[0;34m)\u001b[0m\u001b[0;34m\u001b[0m\u001b[0;34m\u001b[0m\u001b[0m\n\u001b[0m\u001b[1;32m    127\u001b[0m \u001b[0;34m\u001b[0m\u001b[0m\n\u001b[1;32m    128\u001b[0m             \u001b[0mself\u001b[0m\u001b[0;34m.\u001b[0m\u001b[0msearch_back\u001b[0m\u001b[0;34m(\u001b[0m\u001b[0mparent\u001b[0m\u001b[0;34m,\u001b[0m \u001b[0mx\u001b[0m\u001b[0;34m,\u001b[0m \u001b[0mdeep\u001b[0m \u001b[0;34m-\u001b[0m \u001b[0;36m1\u001b[0m\u001b[0;34m)\u001b[0m\u001b[0;34m\u001b[0m\u001b[0;34m\u001b[0m\u001b[0m\n",
      "\u001b[0;32m<ipython-input-188-2388b9232b76>\u001b[0m in \u001b[0;36msearch_neighbor\u001b[0;34m(self, node, x, deep)\u001b[0m\n\u001b[1;32m    101\u001b[0m             \u001b[0mcur_node\u001b[0m\u001b[0;34m,\u001b[0m \u001b[0mcur_deep\u001b[0m \u001b[0;34m=\u001b[0m \u001b[0mnodes\u001b[0m\u001b[0;34m.\u001b[0m\u001b[0mpop\u001b[0m\u001b[0;34m(\u001b[0m\u001b[0;36m0\u001b[0m\u001b[0;34m)\u001b[0m\u001b[0;34m\u001b[0m\u001b[0;34m\u001b[0m\u001b[0m\n\u001b[1;32m    102\u001b[0m             \u001b[0;31m#print(\"search neighbor: {}\".format(cur_node.data))\u001b[0m\u001b[0;34m\u001b[0m\u001b[0;34m\u001b[0m\u001b[0;34m\u001b[0m\u001b[0m\n\u001b[0;32m--> 103\u001b[0;31m             \u001b[0mself\u001b[0m\u001b[0;34m.\u001b[0m\u001b[0mupdate_min_dis\u001b[0m\u001b[0;34m(\u001b[0m\u001b[0mcur_node\u001b[0m\u001b[0;34m,\u001b[0m \u001b[0mx\u001b[0m\u001b[0;34m)\u001b[0m\u001b[0;34m\u001b[0m\u001b[0;34m\u001b[0m\u001b[0m\n\u001b[0m\u001b[1;32m    104\u001b[0m             \u001b[0;32mif\u001b[0m \u001b[0mcur_node\u001b[0m\u001b[0;34m.\u001b[0m\u001b[0mleft\u001b[0m\u001b[0;34m:\u001b[0m\u001b[0;34m\u001b[0m\u001b[0;34m\u001b[0m\u001b[0m\n\u001b[1;32m    105\u001b[0m                 \u001b[0mnodes\u001b[0m \u001b[0;34m+=\u001b[0m \u001b[0;34m[\u001b[0m\u001b[0;34m[\u001b[0m\u001b[0mcur_node\u001b[0m\u001b[0;34m.\u001b[0m\u001b[0mleft\u001b[0m\u001b[0;34m,\u001b[0m \u001b[0mcur_deep\u001b[0m \u001b[0;34m-\u001b[0m \u001b[0;36m1\u001b[0m\u001b[0;34m]\u001b[0m\u001b[0;34m]\u001b[0m\u001b[0;34m\u001b[0m\u001b[0;34m\u001b[0m\u001b[0m\n",
      "\u001b[0;32m<ipython-input-188-2388b9232b76>\u001b[0m in \u001b[0;36mupdate_min_dis\u001b[0;34m(self, node, x)\u001b[0m\n\u001b[1;32m     86\u001b[0m \u001b[0;34m\u001b[0m\u001b[0m\n\u001b[1;32m     87\u001b[0m         \u001b[0mdis\u001b[0m \u001b[0;34m=\u001b[0m \u001b[0;34m[\u001b[0m\u001b[0mnp\u001b[0m\u001b[0;34m.\u001b[0m\u001b[0mlinalg\u001b[0m\u001b[0;34m.\u001b[0m\u001b[0mnorm\u001b[0m\u001b[0;34m(\u001b[0m\u001b[0mn\u001b[0m \u001b[0;34m-\u001b[0m \u001b[0mx\u001b[0m\u001b[0;34m)\u001b[0m \u001b[0;32mfor\u001b[0m \u001b[0mn\u001b[0m \u001b[0;32min\u001b[0m \u001b[0mnode\u001b[0m\u001b[0;34m.\u001b[0m\u001b[0mdata\u001b[0m\u001b[0;34m]\u001b[0m\u001b[0;34m\u001b[0m\u001b[0;34m\u001b[0m\u001b[0m\n\u001b[0;32m---> 88\u001b[0;31m         \u001b[0mmin_dis\u001b[0m \u001b[0;34m=\u001b[0m \u001b[0mmin\u001b[0m\u001b[0;34m(\u001b[0m\u001b[0mdis\u001b[0m\u001b[0;34m)\u001b[0m\u001b[0;34m\u001b[0m\u001b[0;34m\u001b[0m\u001b[0m\n\u001b[0m\u001b[1;32m     89\u001b[0m         \u001b[0;32mif\u001b[0m \u001b[0mmin_dis\u001b[0m \u001b[0;34m<\u001b[0m \u001b[0mself\u001b[0m\u001b[0;34m.\u001b[0m\u001b[0mmin_dis\u001b[0m\u001b[0;34m:\u001b[0m\u001b[0;34m\u001b[0m\u001b[0;34m\u001b[0m\u001b[0m\n\u001b[1;32m     90\u001b[0m             \u001b[0;31m#str_data = lambda d : 'None' if d == None else d.data\u001b[0m\u001b[0;34m\u001b[0m\u001b[0;34m\u001b[0m\u001b[0;34m\u001b[0m\u001b[0m\n",
      "\u001b[0;31mValueError\u001b[0m: min() arg is an empty sequence"
     ]
    }
   ],
   "source": [
    "random_test()"
   ]
  },
  {
   "cell_type": "markdown",
   "metadata": {},
   "source": [
    "KV树在构建的时候，有几个问题\n",
    "首先它的中位数，在遇到数据个数是偶数的的时候，不采用中位数平均的形势，因为平均可能会导致root节点没有任何数据\n",
    "为了保证root有数据，所以不取平均"
   ]
  }
 ],
 "metadata": {
  "kernelspec": {
   "display_name": "Python 3",
   "language": "python",
   "name": "python3"
  },
  "language_info": {
   "codemirror_mode": {
    "name": "ipython",
    "version": 3
   },
   "file_extension": ".py",
   "mimetype": "text/x-python",
   "name": "python",
   "nbconvert_exporter": "python",
   "pygments_lexer": "ipython3",
   "version": "3.7.1"
  }
 },
 "nbformat": 4,
 "nbformat_minor": 2
}
