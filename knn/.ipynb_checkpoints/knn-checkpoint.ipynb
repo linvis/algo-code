{
 "cells": [
  {
   "cell_type": "code",
   "execution_count": 18,
   "metadata": {},
   "outputs": [],
   "source": [
    "import numpy as np\n",
    "import random"
   ]
  },
  {
   "cell_type": "code",
   "execution_count": 19,
   "metadata": {},
   "outputs": [],
   "source": [
    "class Tree:\n",
    "    def __init__(self, data=None, parent=None):\n",
    "        self.left = None\n",
    "        self.right = None\n",
    "        self.data = data\n",
    "        self.parent = parent\n",
    "        self.neighbor = None\n",
    "    \n",
    "    def traverse(self):\n",
    "        print(self.data)\n",
    "        \n",
    "        if self.left:\n",
    "            self.left.traverse()\n",
    "        if self.right:\n",
    "            self.right.traverse()\n",
    "    \n",
    "    def __getattribute__(self, item):\n",
    "        if item == 'neighbor':\n",
    "            if self.parent == None:\n",
    "                return None\n",
    "            else:\n",
    "                if self == self.parent.left:\n",
    "                    return self.parent.right\n",
    "                else:\n",
    "                    return self.parent.left\n",
    "        else:\n",
    "            return super().__getattribute__(item)"
   ]
  },
  {
   "cell_type": "code",
   "execution_count": 20,
   "metadata": {},
   "outputs": [],
   "source": [
    "tree = Tree(1)\n",
    "left_node = Tree(2, tree)\n",
    "right_node = Tree(3,tree)"
   ]
  },
  {
   "cell_type": "code",
   "execution_count": 21,
   "metadata": {},
   "outputs": [],
   "source": [
    "tree.left = left_node\n",
    "tree.right = right_node\n",
    "left_node.parent = tree\n",
    "right_node.parent = tree"
   ]
  },
  {
   "cell_type": "code",
   "execution_count": 22,
   "metadata": {},
   "outputs": [
    {
     "data": {
      "text/plain": [
       "2"
      ]
     },
     "execution_count": 22,
     "metadata": {},
     "output_type": "execute_result"
    }
   ],
   "source": [
    "right_node.neighbor.data"
   ]
  },
  {
   "cell_type": "code",
   "execution_count": 23,
   "metadata": {},
   "outputs": [
    {
     "name": "stdout",
     "output_type": "stream",
     "text": [
      "1\n",
      "2\n",
      "3\n"
     ]
    }
   ],
   "source": [
    "tree.traverse()"
   ]
  },
  {
   "cell_type": "code",
   "execution_count": 167,
   "metadata": {},
   "outputs": [],
   "source": [
    "class KNN:\n",
    "    def __init__(self, x=None, y=None, k=1):\n",
    "        self.train_x = x\n",
    "        self.train_y = y\n",
    "        self.k = k\n",
    "        self.tree = Tree()\n",
    "        self.cur_node = None\n",
    "        self.min_dis = float('inf')\n",
    "        \n",
    "    def clean(self):\n",
    "        self.cur_node = None\n",
    "        self.min_dis = float('inf')\n",
    "        \n",
    "    def median(self, x_choose):\n",
    "        x_set = sorted(x_choose)\n",
    "        \n",
    "        return x_set[int(len(x_set) / 2)]\n",
    "    \n",
    "    def kv_tree(self, x_set:np.array, root, deep):\n",
    "        \n",
    "        if len(x_set) <= 1:\n",
    "            return\n",
    "        \n",
    "        #x_set = x_set[:, 0:-1]\n",
    "        \n",
    "        l = (deep % self.k) + 1\n",
    "        \n",
    "        x_choose = x_set[:, l - 1]\n",
    "        med = self.median(x_choose)\n",
    "\n",
    "        left_data = [x for x in x_set if x[l - 1] < med]\n",
    "        right_data = [x for x in x_set if x[l - 1] > med]\n",
    "        \n",
    "        root.data = np.array([x for x in x_set if x[l - 1] == med])\n",
    "\n",
    "        #left_data = np.where(len(left_data) > 0, np.array(left_data), None)\n",
    "        #right_data = np.where(len(right_data) > 0, np.array(right_data), None)\n",
    "        left_data = np.array(left_data)\n",
    "        left_node = Tree(left_data)\n",
    "        left_node.parent = root\n",
    "        root.left = left_node\n",
    "\n",
    "        right_data = np.array(right_data)\n",
    "        right_node = Tree(right_data)\n",
    "        right_node.parent = root\n",
    "        root.right = right_node\n",
    "\n",
    "        self.kv_tree(left_data, root.left, deep + 1)\n",
    "        self.kv_tree(right_data, root.right, deep + 1)\n",
    "        '''\n",
    "        这段的目的是不构造空叶子节点，\n",
    "        但是缺少空节点有个问题，kv树搜索的时候，不从叶子节点开始，会导致某些节点没有被搜索到\n",
    "        if len(left_data) > 0:\n",
    "            left_data = np.array(left_data)\n",
    "            left_node = Tree(left_data)\n",
    "            root.left = left_node\n",
    "            left_node.parent = root\n",
    "            self.kv_tree(left_data, root.left, deep + 1)\n",
    "        else:\n",
    "            root.left = None\n",
    "        \n",
    "        if len(right_data) > 0:\n",
    "            right_data = np.array(right_data)\n",
    "            right_node = Tree(right_data)\n",
    "            root.right = right_node\n",
    "            right_node.parent = root\n",
    "            self.kv_tree(right_data, root.right, deep + 1)\n",
    "        else:\n",
    "            root.right = None  \n",
    "        '''\n",
    "        \n",
    "    def fit(self, x, y):\n",
    "        self.train_x = x\n",
    "        self.train_y = y.reshape(-1,1)\n",
    "        \n",
    "        self.train_x = np.append(self.train_x, self.train_y, axis=1)\n",
    "\n",
    "        self.kv_tree(self.train_x, self.tree, 0)    \n",
    "        \n",
    "    def predict(self, x):\n",
    "        self.clean()\n",
    "        y = []\n",
    "        \n",
    "        for _x in x:\n",
    "            leaf, deep = self.search_leaf(self.tree, _x, 0)\n",
    "        \n",
    "            #self.cur_node = leaf\n",
    "        \n",
    "            self.search_back(leaf, _x, deep)\n",
    "            \n",
    "            y.append(self.cur_node[-1])\n",
    "            \n",
    "            self.clean()\n",
    "        return np.array(y)\n",
    "        \n",
    "        #return self.cur_node, self.min_dis\n",
    "\n",
    "    \n",
    "    def update_min_dis(self, node, x):\n",
    "        #print(len(node.data))\n",
    "        if len(node.data) <= 0:\n",
    "            return\n",
    "        \n",
    "        dis = [np.linalg.norm(n[0:-1] - x) for n in node.data]\n",
    "        min_dis = np.argmin(dis)\n",
    "        if dis[min_dis] < self.min_dis:\n",
    "            #str_data = lambda d : 'None' if d == None else d.data\n",
    "            #print(\"update node {} => {}\".format(str_data(self.cur_node), node.data))\n",
    "            #print(\"update dis {} => {}\".format(self.min_dis, dis[min_dis]))\n",
    "            self.min_dis = dis[min_dis]\n",
    "            self.cur_node = node.data[min_dis]\n",
    "    \n",
    "    def search_neighbor(self, node, x, deep):\n",
    "        \n",
    "        nodes = [[node, deep]]\n",
    "        \n",
    "        while len(nodes):\n",
    "            cur_node, cur_deep = nodes.pop(0)\n",
    "            #print(\"search neighbor: {}\".format(cur_node.data))\n",
    "            self.update_min_dis(cur_node, x)\n",
    "            if cur_node.left:\n",
    "                nodes += [[cur_node.left, cur_deep - 1]]\n",
    "            if cur_node.right:\n",
    "                nodes += [[cur_node.right, cur_deep - 1]]\n",
    "                 \n",
    "    def search_back(self, node, x, deep):\n",
    "        \n",
    "        if deep <= 0:\n",
    "            return\n",
    "        \n",
    "        #print(\"----- {}\".format(node.data))\n",
    "        parent = node.parent\n",
    "        #print(\"parent {}\".format(parent.data))\n",
    "        \n",
    "        l = (deep % self.k) + 1 - 1\n",
    "        \n",
    "        # intersect\n",
    "        if x[l] - parent.data[0][l] <= self.min_dis:\n",
    "            # check if min distance in parent node\n",
    "            self.update_min_dis(parent, x)\n",
    "                \n",
    "            # check neighborhood\n",
    "            self.search_neighbor(node.neighbor, x, deep)\n",
    "            \n",
    "            self.search_back(parent, x, deep - 1)\n",
    "            \n",
    "        else:\n",
    "            return self.search_back(parent, x, deep - 1)\n",
    "    \n",
    "    def search_leaf(self, tree, x, deep):\n",
    "        #print(tree.data)\n",
    "        if len(tree.data) <= 0:\n",
    "            #self.update_min_dis(tree.parent, x)\n",
    "            return tree, deep\n",
    "        \n",
    "        l = (deep % self.k) + 1 - 1       \n",
    "        \n",
    "        if x[0] < tree.data[0][l]:\n",
    "            if tree.left == None:\n",
    "                self.update_min_dis(tree, x)\n",
    "                return tree, deep\n",
    "            else:\n",
    "                return self.search_leaf(tree.left, x, deep + 1)\n",
    "        else:\n",
    "            if tree.right == None:  \n",
    "                self.update_min_dis(tree, x)\n",
    "                return tree, deep\n",
    "            else:\n",
    "                return self.search_leaf(tree.right, x, deep + 1)"
   ]
  },
  {
   "cell_type": "code",
   "execution_count": 38,
   "metadata": {},
   "outputs": [
    {
     "data": {
      "text/plain": [
       "(6, 2)"
      ]
     },
     "execution_count": 38,
     "metadata": {},
     "output_type": "execute_result"
    }
   ],
   "source": [
    "train_x = [[2,3],[5,4],[9,6],[4,7],[8,1],[7,2]]\n",
    "train_x = np.array(train_x)\n",
    "train_x.shape"
   ]
  },
  {
   "cell_type": "code",
   "execution_count": 39,
   "metadata": {},
   "outputs": [
    {
     "data": {
      "text/plain": [
       "array([[0],\n",
       "       [1],\n",
       "       [1],\n",
       "       [0],\n",
       "       [1],\n",
       "       [0]])"
      ]
     },
     "execution_count": 39,
     "metadata": {},
     "output_type": "execute_result"
    }
   ],
   "source": [
    "train_y = np.array([0, 1, 1, 0, 1, 0])\n",
    "train_y = train_y.reshape(-1,1)\n",
    "train_y"
   ]
  },
  {
   "cell_type": "code",
   "execution_count": 40,
   "metadata": {},
   "outputs": [
    {
     "name": "stdout",
     "output_type": "stream",
     "text": [
      "[[7 2 0]]\n",
      "[[5 4 1]]\n",
      "[[2 3 0]]\n",
      "[[4 7 0]]\n",
      "[[9 6 1]]\n",
      "[[8 1 1]]\n",
      "[]\n"
     ]
    }
   ],
   "source": [
    "knn = KNN(train_x, train_y, 2)\n",
    "knn.fit(train_x, train_y)\n",
    "knn.tree.traverse()"
   ]
  },
  {
   "cell_type": "code",
   "execution_count": 41,
   "metadata": {},
   "outputs": [
    {
     "data": {
      "text/plain": [
       "array([4, 3])"
      ]
     },
     "execution_count": 41,
     "metadata": {},
     "output_type": "execute_result"
    }
   ],
   "source": [
    "test_x = np.array([4,3])\n",
    "test_x"
   ]
  },
  {
   "cell_type": "code",
   "execution_count": 42,
   "metadata": {},
   "outputs": [
    {
     "name": "stdout",
     "output_type": "stream",
     "text": [
      "update dis inf => 4.0\n"
     ]
    },
    {
     "data": {
      "text/plain": [
       "array([[4, 7, 0]])"
      ]
     },
     "execution_count": 42,
     "metadata": {},
     "output_type": "execute_result"
    }
   ],
   "source": [
    "knn.search_leaf(knn.tree, test_x, 0)[0].data"
   ]
  },
  {
   "cell_type": "code",
   "execution_count": 43,
   "metadata": {},
   "outputs": [
    {
     "name": "stdout",
     "output_type": "stream",
     "text": [
      "update dis inf => 4.0\n",
      "update dis 4.0 => 1.4142135623730951\n"
     ]
    },
    {
     "data": {
      "text/plain": [
       "array([1])"
      ]
     },
     "execution_count": 43,
     "metadata": {},
     "output_type": "execute_result"
    }
   ],
   "source": [
    "knn.predict([test_x])"
   ]
  },
  {
   "cell_type": "code",
   "execution_count": 44,
   "metadata": {},
   "outputs": [],
   "source": [
    "def test_knn(train_x, test_x):\n",
    "    dis = [np.linalg.norm(n - test_x) for n in train_x]\n",
    "    #print(dis)\n",
    "    return np.array([train_x[np.argmin(dis)]]), min(dis)"
   ]
  },
  {
   "cell_type": "code",
   "execution_count": 45,
   "metadata": {},
   "outputs": [
    {
     "data": {
      "text/plain": [
       "(array([[5, 4]]), 1.4142135623730951)"
      ]
     },
     "execution_count": 45,
     "metadata": {},
     "output_type": "execute_result"
    }
   ],
   "source": [
    "test_knn(train_x, test_x)"
   ]
  },
  {
   "cell_type": "code",
   "execution_count": 46,
   "metadata": {},
   "outputs": [],
   "source": [
    "def random_test():\n",
    "    test_x = np.random.randint(10, size=(100, 2))\n",
    "    #test_x = [[5,4]]\n",
    "\n",
    "    for x in test_x:\n",
    "        knn_dis = knn.predict(x)[1]\n",
    "        test_dis = test_knn(train_x, x)[1]\n",
    "        if knn_dis != test_dis:\n",
    "            print(x)\n",
    "            print(\"dis knn {}, test {}\".format(knn_dis, test_dis))\n",
    "            print(knn.predict(x)[0].data)\n",
    "            print(test_knn(train_x, x)[0])\n",
    "    \n",
    "    pass"
   ]
  },
  {
   "cell_type": "markdown",
   "metadata": {},
   "source": [
    "KV树在构建的时候，有几个问题\n",
    "首先它的中位数，在遇到数据个数是偶数的的时候，不采用中位数平均的形势，因为平均可能会导致root节点没有任何数据\n",
    "为了保证root有数据，所以不取平均"
   ]
  },
  {
   "cell_type": "markdown",
   "metadata": {},
   "source": [
    "问题2，当train_x特别稀疏的时候，比如`train_x[0,:1]`都是0的话，这样在构建kv树的时候，就有可能所有的x全都被放到根节点，\n",
    "算法的复杂度就跌落到$O(n)$了"
   ]
  },
  {
   "cell_type": "markdown",
   "metadata": {},
   "source": [
    "一个很奇怪的问题，如果不归一化处理，norm算出来的距离和sklearn knn的距离不一样(欧几里得距离)，很奇怪，归一化以后就正常了"
   ]
  },
  {
   "cell_type": "code",
   "execution_count": 48,
   "metadata": {},
   "outputs": [],
   "source": [
    "import tensorflow as tf"
   ]
  },
  {
   "cell_type": "code",
   "execution_count": 168,
   "metadata": {},
   "outputs": [],
   "source": [
    "mnist = tf.keras.datasets.mnist\n",
    "(train_x, train_y), (test_x, test_y) = mnist.load_data()"
   ]
  },
  {
   "cell_type": "code",
   "execution_count": 169,
   "metadata": {},
   "outputs": [],
   "source": [
    "train_x = train_x.reshape(train_x.shape[0], -1) / 255.0\n",
    "test_x = test_x.reshape(test_x.shape[0], -1) / 255.0"
   ]
  },
  {
   "cell_type": "code",
   "execution_count": 170,
   "metadata": {},
   "outputs": [],
   "source": [
    "train_x_sample = train_x[:100]\n",
    "train_y_sampe = train_y[:100]"
   ]
  },
  {
   "cell_type": "code",
   "execution_count": 171,
   "metadata": {},
   "outputs": [],
   "source": [
    "knn = KNN(train_x, train_y, 2)\n",
    "knn.fit(train_x, train_y)"
   ]
  },
  {
   "cell_type": "code",
   "execution_count": 173,
   "metadata": {},
   "outputs": [],
   "source": [
    "knn_y = knn.predict(test_x[:10])"
   ]
  },
  {
   "cell_type": "code",
   "execution_count": 174,
   "metadata": {},
   "outputs": [
    {
     "data": {
      "text/plain": [
       "array([7., 2., 1., 0., 4., 1., 4., 9., 5., 9.])"
      ]
     },
     "execution_count": 174,
     "metadata": {},
     "output_type": "execute_result"
    }
   ],
   "source": [
    "knn_y"
   ]
  },
  {
   "cell_type": "code",
   "execution_count": 175,
   "metadata": {},
   "outputs": [],
   "source": [
    "from sklearn.neighbors import KNeighborsClassifier"
   ]
  },
  {
   "cell_type": "code",
   "execution_count": 176,
   "metadata": {},
   "outputs": [],
   "source": [
    "neigh = KNeighborsClassifier(n_neighbors=1,metric='euclidean')"
   ]
  },
  {
   "cell_type": "code",
   "execution_count": 177,
   "metadata": {},
   "outputs": [
    {
     "data": {
      "text/plain": [
       "KNeighborsClassifier(algorithm='auto', leaf_size=30, metric='euclidean',\n",
       "           metric_params=None, n_jobs=None, n_neighbors=1, p=2,\n",
       "           weights='uniform')"
      ]
     },
     "execution_count": 177,
     "metadata": {},
     "output_type": "execute_result"
    }
   ],
   "source": [
    "neigh.fit(train_x, train_y)"
   ]
  },
  {
   "cell_type": "code",
   "execution_count": 180,
   "metadata": {},
   "outputs": [],
   "source": [
    "sk_knn_y = neigh.predict(test_x)"
   ]
  },
  {
   "cell_type": "code",
   "execution_count": 182,
   "metadata": {},
   "outputs": [],
   "source": [
    "from sklearn.metrics import accuracy_score"
   ]
  },
  {
   "cell_type": "code",
   "execution_count": 183,
   "metadata": {},
   "outputs": [
    {
     "data": {
      "text/plain": [
       "0.9691"
      ]
     },
     "execution_count": 183,
     "metadata": {},
     "output_type": "execute_result"
    }
   ],
   "source": [
    "accuracy_score(sk_knn_y, test_y)"
   ]
  }
 ],
 "metadata": {
  "kernelspec": {
   "display_name": "Python 3",
   "language": "python",
   "name": "python3"
  },
  "language_info": {
   "codemirror_mode": {
    "name": "ipython",
    "version": 3
   },
   "file_extension": ".py",
   "mimetype": "text/x-python",
   "name": "python",
   "nbconvert_exporter": "python",
   "pygments_lexer": "ipython3",
   "version": "3.7.1"
  }
 },
 "nbformat": 4,
 "nbformat_minor": 2
}
